{
 "cells": [
  {
   "cell_type": "markdown",
   "id": "04d00c7c",
   "metadata": {},
   "source": [
    "Let's understand A/B testing using a simulated example. We will test for two means."
   ]
  },
  {
   "cell_type": "code",
   "execution_count": 59,
   "id": "399d7a99",
   "metadata": {},
   "outputs": [],
   "source": [
    "import numpy as np\n",
    "import matplotlib.pyplot as plt\n",
    "from scipy.stats import ttest_ind"
   ]
  },
  {
   "cell_type": "code",
   "execution_count": 60,
   "id": "0338133b",
   "metadata": {},
   "outputs": [],
   "source": [
    "# let's start with two normal distributions with different means\n",
    "controlPopulation = np.random.normal(loc=10, scale=3, size=1_000_000)\n",
    "treatmentPopulation = np.random.normal(loc=12, scale=3, size=1_000_000)"
   ]
  },
  {
   "cell_type": "markdown",
   "id": "ab016eda",
   "metadata": {},
   "source": [
    "So, we are assuming here that our treatment had effect, thus an increase in 20% in the mean, while maintaining the variance fixed."
   ]
  },
  {
   "cell_type": "code",
   "execution_count": 61,
   "id": "03103937",
   "metadata": {},
   "outputs": [
    {
     "data": {
      "image/png": "[encoded data removed]",
      "text/plain": [
       "<Figure size 720x360 with 1 Axes>"
      ]
     },
     "metadata": {
      "needs_background": "light"
     },
     "output_type": "display_data"
    }
   ],
   "source": [
    "# plotting the distributions\n",
    "plt.figure(figsize=(10,5))\n",
    "plt.grid()\n",
    "plt.hist(controlPopulation, color=\"blue\", bins=250)\n",
    "plt.hist(treatmentPopulation, color=\"orange\", bins=250)\n",
    "plt.title(\"Control (blue) vs Treatment (orange)\")\n",
    "plt.show()"
   ]
  },
  {
   "cell_type": "markdown",
   "id": "f81975d4",
   "metadata": {},
   "source": [
    "When we perform a test, we always look at a sample. Since we don't look at the whole population, we always have a probability of making a mistake depending on the sample we take."
   ]
  },
  {
   "cell_type": "code",
   "execution_count": 62,
   "id": "e3a21e5c",
   "metadata": {},
   "outputs": [],
   "source": [
    "controlSample = np.random.choice(controlPopulation, 1000)\n",
    "treatmentSample = np.random.choice(treatmentPopulation, 1000)"
   ]
  },
  {
   "cell_type": "code",
   "execution_count": 63,
   "id": "c6f9c314",
   "metadata": {},
   "outputs": [
    {
     "data": {
      "image/png": "[encoded data removed]",
      "text/plain": [
       "<Figure size 720x360 with 1 Axes>"
      ]
     },
     "metadata": {
      "needs_background": "light"
     },
     "output_type": "display_data"
    }
   ],
   "source": [
    "# let's see the samples\n",
    "plt.figure(figsize=(10,5))\n",
    "plt.grid()\n",
    "plt.hist(controlSample, color=\"blue\")\n",
    "plt.hist(treatmentSample, color=\"orange\")\n",
    "plt.title(\"Control (blue) vs Treatment (orange)\")\n",
    "plt.show()"
   ]
  },
  {
   "cell_type": "markdown",
   "id": "c7cabf18",
   "metadata": {},
   "source": [
    "Even though we took a small sample from our population, we stil can see the general shape of the curves. We can also see that the Treatment curve is to the right of the Control curve, which indicates a larger mean.<br>\n",
    "By performing a two sample t-test, we will test whether the difference is **significant**, meaning, if it is unprobable enough for we to reject the hypothesis that the means are the same. Let's do it!"
   ]
  },
  {
   "cell_type": "code",
   "execution_count": 64,
   "id": "118a4aab",
   "metadata": {},
   "outputs": [
    {
     "data": {
      "text/plain": [
       "Ttest_indResult(statistic=-15.521194593066168, pvalue=2.201279586215649e-51)"
      ]
     },
     "execution_count": 64,
     "metadata": {},
     "output_type": "execute_result"
    }
   ],
   "source": [
    "ttest_ind(a=controlSample, b=treatmentSample, equal_var=True, alternative=\"two-sided\")"
   ]
  },
  {
   "cell_type": "markdown",
   "id": "701a4cb2",
   "metadata": {},
   "source": [
    "Wooooooooow, the p-value is really small!!<br>\n",
    "This means that, only looking at theses samples, we can assure that there is a 2/100000000000000000000000000000000000000000000000000 chance that we see this result (or a result even more extreme) considering that the null hypothesis (same means) is True.\n",
    "\n",
    "For that reason, we reject the null hypothesis."
   ]
  },
  {
   "cell_type": "markdown",
   "id": "a83cb1ec",
   "metadata": {},
   "source": [
    "# Part 2 - What ifs"
   ]
  },
  {
   "cell_type": "markdown",
   "id": "eae2a135",
   "metadata": {},
   "source": [
    "**What if we decrease the difference between the means??**<br>\n",
    "What will happen? I believe that the p-value will increase, given that the effect is smaller"
   ]
  },
  {
   "cell_type": "code",
   "execution_count": 65,
   "id": "515aa26a",
   "metadata": {},
   "outputs": [],
   "source": [
    "# let's start with two normal distributions with different means\n",
    "controlPopulation = np.random.normal(loc=10, scale=3, size=1_000_000)\n",
    "treatmentPopulation = np.random.normal(loc=10.5, scale=3, size=1_000_000)"
   ]
  },
  {
   "cell_type": "code",
   "execution_count": 66,
   "id": "22e5869b",
   "metadata": {},
   "outputs": [],
   "source": [
    "controlSample = np.random.choice(controlPopulation, 1000)\n",
    "treatmentSample = np.random.choice(treatmentPopulation, 1000)"
   ]
  },
  {
   "cell_type": "code",
   "execution_count": 67,
   "id": "47f93256",
   "metadata": {},
   "outputs": [
    {
     "data": {
      "text/plain": [
       "Ttest_indResult(statistic=-5.903432846677651, pvalue=4.1727423674410405e-09)"
      ]
     },
     "execution_count": 67,
     "metadata": {},
     "output_type": "execute_result"
    }
   ],
   "source": [
    "ttest_ind(a=controlSample, b=treatmentSample, equal_var=True, alternative=\"two-sided\")"
   ]
  },
  {
   "cell_type": "markdown",
   "id": "c5954198",
   "metadata": {},
   "source": [
    "Hmmmmmmmmmmmmmmm, look at the p-value! It is much larger!<br>\n",
    "This means that the test is less confident that the difference is significant. Under the null hypothesis, there is a probability of 2.1% of seeing such result (or even more extreme)."
   ]
  },
  {
   "cell_type": "markdown",
   "id": "34bedd2d",
   "metadata": {},
   "source": [
    "**What if we decrease the difference between the means and increase sample size??**<br>\n",
    "What will happen? I believe that the p-value will decrease because we have more samples"
   ]
  },
  {
   "cell_type": "code",
   "execution_count": 68,
   "id": "adc91d3c",
   "metadata": {},
   "outputs": [],
   "source": [
    "# let's start with two normal distributions with different means\n",
    "controlPopulation = np.random.normal(loc=10, scale=3, size=1_000_000)\n",
    "treatmentPopulation = np.random.normal(loc=10.5, scale=3, size=1_000_000)"
   ]
  },
  {
   "cell_type": "code",
   "execution_count": 69,
   "id": "533f47be",
   "metadata": {},
   "outputs": [],
   "source": [
    "controlSample = np.random.choice(controlPopulation, 2000)\n",
    "treatmentSample = np.random.choice(treatmentPopulation, 2000)"
   ]
  },
  {
   "cell_type": "code",
   "execution_count": 70,
   "id": "c32edffc",
   "metadata": {},
   "outputs": [
    {
     "data": {
      "text/plain": [
       "Ttest_indResult(statistic=-3.788495162059661, pvalue=0.00015379203727006738)"
      ]
     },
     "execution_count": 70,
     "metadata": {},
     "output_type": "execute_result"
    }
   ],
   "source": [
    "ttest_ind(a=controlSample, b=treatmentSample, equal_var=True, alternative=\"two-sided\")"
   ]
  },
  {
   "cell_type": "markdown",
   "id": "8c9ff746",
   "metadata": {},
   "source": [
    "**What if we increase the variance??**<br>\n",
    "What will happen? I believe that the p-value will increase"
   ]
  },
  {
   "cell_type": "code",
   "execution_count": 71,
   "id": "f68d24ef",
   "metadata": {},
   "outputs": [],
   "source": [
    "# let's start with two normal distributions with different means\n",
    "controlPopulation = np.random.normal(loc=10, scale=5, size=1_000_000)\n",
    "treatmentPopulation = np.random.normal(loc=12, scale=5, size=1_000_000)"
   ]
  },
  {
   "cell_type": "code",
   "execution_count": 72,
   "id": "19cb2690",
   "metadata": {},
   "outputs": [],
   "source": [
    "controlSample = np.random.choice(controlPopulation, 2000)\n",
    "treatmentSample = np.random.choice(treatmentPopulation, 2000)"
   ]
  },
  {
   "cell_type": "code",
   "execution_count": 73,
   "id": "b69551a3",
   "metadata": {},
   "outputs": [
    {
     "data": {
      "text/plain": [
       "Ttest_indResult(statistic=-13.203702331148873, pvalue=5.410420354936178e-39)"
      ]
     },
     "execution_count": 73,
     "metadata": {},
     "output_type": "execute_result"
    }
   ],
   "source": [
    "ttest_ind(a=controlSample, b=treatmentSample, equal_var=True, alternative=\"two-sided\")"
   ]
  },
  {
   "cell_type": "markdown",
   "id": "d90f7432",
   "metadata": {},
   "source": [
    "**What if we increase A LOT the variance??**<br>\n",
    "What will happen? I believe that the p-value will increase"
   ]
  },
  {
   "cell_type": "code",
   "execution_count": 74,
   "id": "83f2a773",
   "metadata": {},
   "outputs": [],
   "source": [
    "# let's start with two normal distributions with different means\n",
    "controlPopulation = np.random.normal(loc=10, scale=50, size=1_000_000)\n",
    "treatmentPopulation = np.random.normal(loc=12, scale=50, size=1_000_000)"
   ]
  },
  {
   "cell_type": "code",
   "execution_count": 75,
   "id": "da6383b2",
   "metadata": {},
   "outputs": [
    {
     "data": {
      "image/png": "[encoded data removed]",
      "text/plain": [
       "<Figure size 720x360 with 1 Axes>"
      ]
     },
     "metadata": {
      "needs_background": "light"
     },
     "output_type": "display_data"
    }
   ],
   "source": [
    "# plotting the distributions\n",
    "plt.figure(figsize=(10,5))\n",
    "plt.grid()\n",
    "plt.hist(controlPopulation, color=\"blue\", bins=250)\n",
    "plt.hist(treatmentPopulation, color=\"orange\", bins=250)\n",
    "plt.title(\"Control (blue) vs Treatment (orange)\")\n",
    "plt.show()"
   ]
  },
  {
   "cell_type": "code",
   "execution_count": 76,
   "id": "dd8aa491",
   "metadata": {},
   "outputs": [],
   "source": [
    "controlSample = np.random.choice(controlPopulation, 2000)\n",
    "treatmentSample = np.random.choice(treatmentPopulation, 2000)"
   ]
  },
  {
   "cell_type": "code",
   "execution_count": 77,
   "id": "3a48a2ff",
   "metadata": {},
   "outputs": [
    {
     "data": {
      "text/plain": [
       "Ttest_indResult(statistic=-2.4918115142549198, pvalue=0.01274956241981269)"
      ]
     },
     "execution_count": 77,
     "metadata": {},
     "output_type": "execute_result"
    }
   ],
   "source": [
    "ttest_ind(a=controlSample, b=treatmentSample, equal_var=True, alternative=\"two-sided\")"
   ]
  },
  {
   "cell_type": "markdown",
   "id": "08a8a1ce",
   "metadata": {},
   "source": [
    "**What if the distributions are not normal?**"
   ]
  },
  {
   "cell_type": "code",
   "execution_count": 87,
   "id": "7f95be9e",
   "metadata": {},
   "outputs": [],
   "source": [
    "# let's start with two normal distributions with different means\n",
    "controlPopulation = np.random.exponential(scale=10, size=1_000_000)\n",
    "treatmentPopulation = np.random.exponential(scale=12, size=1_000_000)"
   ]
  },
  {
   "cell_type": "code",
   "execution_count": 88,
   "id": "a86cecc4",
   "metadata": {},
   "outputs": [
    {
     "data": {
      "image/png": "[encoded data removed]",
      "text/plain": [
       "<Figure size 720x360 with 1 Axes>"
      ]
     },
     "metadata": {
      "needs_background": "light"
     },
     "output_type": "display_data"
    }
   ],
   "source": [
    "# plotting the distributions\n",
    "plt.figure(figsize=(10,5))\n",
    "plt.grid()\n",
    "plt.hist(controlPopulation, color=\"blue\", bins=250)\n",
    "plt.hist(treatmentPopulation, color=\"orange\", bins=250)\n",
    "plt.title(\"Control (blue) vs Treatment (orange)\")\n",
    "plt.show()"
   ]
  },
  {
   "cell_type": "code",
   "execution_count": null,
   "id": "80780b1b",
   "metadata": {},
   "outputs": [],
   "source": [
    "controlSample = np.random.choice(controlPopulation, 1000)\n",
    "treatmentSample = np.random.choice(treatmentPopulation, 1000)"
   ]
  },
  {
   "cell_type": "code",
   "execution_count": 89,
   "id": "73065dca",
   "metadata": {},
   "outputs": [
    {
     "data": {
      "text/plain": [
       "Ttest_indResult(statistic=-2.4918115142549198, pvalue=0.01274956241981269)"
      ]
     },
     "execution_count": 89,
     "metadata": {},
     "output_type": "execute_result"
    }
   ],
   "source": [
    "ttest_ind(a=controlSample, b=treatmentSample, equal_var=True, alternative=\"two-sided\")"
   ]
  },
  {
   "cell_type": "markdown",
   "id": "512fe8e1",
   "metadata": {},
   "source": [
    "It seems that the t test responds well to non-normal distributions."
   ]
  },
  {
   "cell_type": "code",
   "execution_count": 98,
   "id": "d25016ab",
   "metadata": {},
   "outputs": [],
   "source": [
    "p_values = []\n",
    "for _ in range(1000):\n",
    "    controlSample = np.random.choice(controlPopulation, 1000)\n",
    "    treatmentSample = np.random.choice(treatmentPopulation, 1000)\n",
    "    p = ttest_ind(a=controlSample, b=treatmentSample, equal_var=True, alternative=\"two-sided\")[1]\n",
    "    p_values.append(p)"
   ]
  },
  {
   "cell_type": "code",
   "execution_count": 99,
   "id": "ce1ab4d8",
   "metadata": {},
   "outputs": [
    {
     "data": {
      "image/png": "[encoded data removed]",
      "text/plain": [
       "<Figure size 432x288 with 1 Axes>"
      ]
     },
     "metadata": {
      "needs_background": "light"
     },
     "output_type": "display_data"
    }
   ],
   "source": [
    "plt.hist(p_values, bins=100)\n",
    "plt.show()"
   ]
  },
  {
   "cell_type": "markdown",
   "id": "047f1cd4",
   "metadata": {},
   "source": [
    "The p-values are concentrated in 0, showing that the distributions are indeed significantly different."
   ]
  },
  {
   "cell_type": "markdown",
   "id": "6c253bb5",
   "metadata": {},
   "source": [
    "**What if the distributions are the same?**<br>aka A/A test"
   ]
  },
  {
   "cell_type": "code",
   "execution_count": 100,
   "id": "d0d3487d",
   "metadata": {},
   "outputs": [],
   "source": [
    "# let's start with two normal distributions with different means\n",
    "controlPopulation = np.random.normal(loc=10, scale=3, size=1_000_000)"
   ]
  },
  {
   "cell_type": "code",
   "execution_count": 101,
   "id": "e4eb3ab9",
   "metadata": {},
   "outputs": [],
   "source": [
    "controlSample = np.random.choice(controlPopulation, 1000)\n",
    "treatmentSample = np.random.choice(controlPopulation, 1000)"
   ]
  },
  {
   "cell_type": "code",
   "execution_count": 102,
   "id": "c75a519c",
   "metadata": {},
   "outputs": [
    {
     "data": {
      "text/plain": [
       "Ttest_indResult(statistic=0.9392926639457723, pvalue=0.34769403991992576)"
      ]
     },
     "execution_count": 102,
     "metadata": {},
     "output_type": "execute_result"
    }
   ],
   "source": [
    "ttest_ind(a=controlSample, b=treatmentSample, equal_var=True, alternative=\"two-sided\")"
   ]
  },
  {
   "cell_type": "markdown",
   "id": "df94c1ca",
   "metadata": {},
   "source": [
    "The test is able to detect that the difference between the samples are not significant. Interesting!"
   ]
  },
  {
   "cell_type": "markdown",
   "id": "ed99b848",
   "metadata": {},
   "source": [
    "According to the theory, the p-values of A/A tests should be uniformally distributed. Let's test this."
   ]
  },
  {
   "cell_type": "code",
   "execution_count": 103,
   "id": "25c1e101",
   "metadata": {},
   "outputs": [],
   "source": [
    "p_values = []\n",
    "for _ in range(1000):\n",
    "    controlSample = np.random.choice(controlPopulation, 1000)\n",
    "    treatmentSample = np.random.choice(controlPopulation, 1000)\n",
    "    p = ttest_ind(a=controlSample, b=treatmentSample, equal_var=True, alternative=\"two-sided\")[1]\n",
    "    p_values.append(p)"
   ]
  },
  {
   "cell_type": "code",
   "execution_count": 105,
   "id": "a95fc13a",
   "metadata": {},
   "outputs": [
    {
     "data": {
      "image/png": "[encoded data removed]",
      "text/plain": [
       "<Figure size 432x288 with 1 Axes>"
      ]
     },
     "metadata": {
      "needs_background": "light"
     },
     "output_type": "display_data"
    }
   ],
   "source": [
    "plt.hist(p_values, bins=10)\n",
    "plt.show()"
   ]
  },
  {
   "cell_type": "markdown",
   "id": "4c3f6cd1",
   "metadata": {},
   "source": [
    "It works!"
   ]
  }
 ],
 "metadata": {
  "kernelspec": {
   "display_name": "Python 3",
   "language": "python",
   "name": "python3"
  },
  "language_info": {
   "codemirror_mode": {
    "name": "ipython",
    "version": 3
   },
   "file_extension": ".py",
   "mimetype": "text/x-python",
   "name": "python",
   "nbconvert_exporter": "python",
   "pygments_lexer": "ipython3",
   "version": "3.8.8"
  }
 },
 "nbformat": 4,
 "nbformat_minor": 5
}
